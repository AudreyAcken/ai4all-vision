{
 "cells": [
  {
   "cell_type": "markdown",
   "metadata": {},
   "source": [
    " # Keras Tutorial\n",
    "\n",
    "Keras is a high-level neural networks API, written in Python and capable of running on top of certain lower-level frameworks like Tensorflow. It is one level above Tensorflow and aims at implementing the Deep Learning pipelines easily and quickly.\n",
    "\n",
    "For our final project, we will be using Keras to build the entire pipeline from scratch. This includes data pre-processing, feature extraction (with CNN) and classification (with fully-connected nets). The goal of this tutorial is to give you adequate knowledge to prepare you for the final project.\n",
    "\n",
    "What is good about Keras compared with other Deep Learning frameworks:\n",
    "* It's high-level, which means that you can implement complex things with several lines of simple code\n",
    "* It works directly with NumPy arrays, so you don't have to spend extra time on creating a Python class for dataset like PyTorch"
   ]
  },
  {
   "cell_type": "markdown",
   "metadata": {},
   "source": [
    "Remember in the class we talked about the pipeline of a real computer vision system, in which we:\n",
    "\n",
    "1. First clean the data to the format to be used for later steps (which includes data loading, data pre-processing, dataset splitting (we'll talk about this on Friday), data augmentation (which we're not gonna cover), etc);\n",
    "\n",
    "2. Then we build the model for feature extraction as well as for final regression / classification. Remember we have many choices like linear model, fully connected neural nets, convolutional neural nets, etc. And we can implement these models very easily in Keras with just one line of code;\n",
    "\n",
    "3. After we get the data and the model, we need to code up the optimization part (for which we'll use gradient descent). \n",
    "\n",
    "In this tutorial, we'll go over these parts sequentially."
   ]
  },
  {
   "cell_type": "markdown",
   "metadata": {},
   "source": [
    "## Data Loading and Pre-processing\n",
    "\n",
    "So in Keras we don't need anything specific for data, we just use NumPy and represent our data in Numpy arrays. Now we're gonna create some fake data to be used later."
   ]
  },
  {
   "cell_type": "code",
   "execution_count": 1,
   "metadata": {},
   "outputs": [],
   "source": [
    "# Import necessary packages\n",
    "import numpy as np"
   ]
  },
  {
   "cell_type": "code",
   "execution_count": 4,
   "metadata": {},
   "outputs": [
    {
     "name": "stdout",
     "output_type": "stream",
     "text": [
      "(1000, 32, 32, 3)\n"
     ]
    }
   ],
   "source": [
    "# Create random numpy arrays (ldata loading)\n",
    "rand_data = np.random.random((1000, 32, 32, 3)) # We have 1000 fake images with spatial size 32 * 32\n",
    "rand_label = np.array([0]*500 + [1]*500)        # Create fake binary labels for these images  \n",
    "\n",
    "print(rand_data.shape)"
   ]
  },
  {
   "cell_type": "code",
   "execution_count": 6,
   "metadata": {},
   "outputs": [
    {
     "name": "stdout",
     "output_type": "stream",
     "text": [
      "(900, 32, 32, 3)\n",
      "(50, 32, 32, 3)\n",
      "(50, 32, 32, 3)\n"
     ]
    }
   ],
   "source": [
    "# Split data into train, validation and test sets (we'll talk more about this on Friday)\n",
    "train_ratio, val_ratio = 0.9, 0.05\n",
    "\n",
    "X_train = rand_data[:int(rand_data.shape[0]*train_ratio), ...] # ... means all the other axes\n",
    "y_train = rand_label[:int(rand_data.shape[0]*train_ratio), ...]\n",
    "\n",
    "X_val = rand_data[int(rand_data.shape[0]*train_ratio):int(rand_data.shape[0]*(train_ratio+val_ratio)), ...]\n",
    "y_val = rand_label[int(rand_data.shape[0]*train_ratio):int(rand_data.shape[0]*(train_ratio+val_ratio)), ...]\n",
    "\n",
    "X_test = rand_data[int(rand_data.shape[0]*(train_ratio+val_ratio)):, ...]\n",
    "y_test = rand_label[int(rand_data.shape[0]*(train_ratio+val_ratio)):, ...]\n",
    "\n",
    "print(X_train.shape)\n",
    "print(X_val.shape)\n",
    "print(X_test.shape)"
   ]
  },
  {
   "cell_type": "markdown",
   "metadata": {},
   "source": [
    "## Model construction\n",
    "\n",
    "Now we have all the data, next we're gonna build our model for feature extraction as well as classification. In Keras, you can easily build many models, as shown below."
   ]
  },
  {
   "cell_type": "code",
   "execution_count": 7,
   "metadata": {},
   "outputs": [
    {
     "name": "stderr",
     "output_type": "stream",
     "text": [
      "Using TensorFlow backend.\n",
      "WARNING: Logging before flag parsing goes to stderr.\n",
      "W0705 09:25:03.882609 140736799790016 deprecation_wrapper.py:119] From /anaconda3/lib/python3.7/site-packages/keras/backend/tensorflow_backend.py:74: The name tf.get_default_graph is deprecated. Please use tf.compat.v1.get_default_graph instead.\n",
      "\n"
     ]
    }
   ],
   "source": [
    "import keras\n",
    "from keras.models import Sequential # Sequential is one of the main models in Keras, which is basically a sequentially stacked series of layers\n",
    "\n",
    "model = Sequential() # Initialize a Sequential model instance"
   ]
  },
  {
   "cell_type": "code",
   "execution_count": 8,
   "metadata": {},
   "outputs": [
    {
     "name": "stderr",
     "output_type": "stream",
     "text": [
      "W0705 09:25:47.055863 140736799790016 deprecation_wrapper.py:119] From /anaconda3/lib/python3.7/site-packages/keras/backend/tensorflow_backend.py:517: The name tf.placeholder is deprecated. Please use tf.compat.v1.placeholder instead.\n",
      "\n",
      "W0705 09:25:47.068882 140736799790016 deprecation_wrapper.py:119] From /anaconda3/lib/python3.7/site-packages/keras/backend/tensorflow_backend.py:4138: The name tf.random_uniform is deprecated. Please use tf.random.uniform instead.\n",
      "\n"
     ]
    }
   ],
   "source": [
    "# First we'll use fully-connected neural nets\n",
    "from keras.layers import Dense # Dense is Keras's name for fully connected layers\n",
    "\n",
    "# We can stack layers like lego blocks by simplying using `add()`\n",
    "# `units` is the number of neurons\n",
    "# `activation` is the nonlinear function we add for each layer\n",
    "# We only need to specify `input_dim` which is the input dimension for the layer for the input layer, because for later layers the input is just the output from last layer\n",
    "# Once again, the number of neurons in hidden layers (e.g., 64 and 16 here) are design choices\n",
    "\n",
    "model.add(Dense(units=64, activation='sigmoid', input_dim=32*32*3)) \n",
    "model.add(Dense(units=16, activation='sigmoid'))\n",
    "model.add(Dense(units=1, activation='sigmoid'))"
   ]
  },
  {
   "cell_type": "code",
   "execution_count": 9,
   "metadata": {},
   "outputs": [
    {
     "name": "stderr",
     "output_type": "stream",
     "text": [
      "W0705 09:27:17.274795 140736799790016 deprecation_wrapper.py:119] From /anaconda3/lib/python3.7/site-packages/keras/optimizers.py:790: The name tf.train.Optimizer is deprecated. Please use tf.compat.v1.train.Optimizer instead.\n",
      "\n",
      "W0705 09:27:17.315573 140736799790016 deprecation_wrapper.py:119] From /anaconda3/lib/python3.7/site-packages/keras/backend/tensorflow_backend.py:3376: The name tf.log is deprecated. Please use tf.math.log instead.\n",
      "\n",
      "W0705 09:27:17.327483 140736799790016 deprecation.py:323] From /anaconda3/lib/python3.7/site-packages/tensorflow/python/ops/nn_impl.py:180: add_dispatch_support.<locals>.wrapper (from tensorflow.python.ops.array_ops) is deprecated and will be removed in a future version.\n",
      "Instructions for updating:\n",
      "Use tf.where in 2.0, which has the same broadcast rule as np.where\n"
     ]
    }
   ],
   "source": [
    "# Once the model is build, we then configure the learning process with `compile()`\n",
    "# We need to specify the loss function, the optimizer and the metric we use to evaluate our model\n",
    "# For loss here we're using a function called binary cross-entropy loss, which is specifically for binary classification\n",
    "# For optimizer we're using gradient descent, which is written as 'sgd' in Keras\n",
    "# Since we're doing classification, normally the classification accuracy is how we evaluate the model\n",
    "\n",
    "model.compile(loss='binary_crossentropy', optimizer='sgd', metrics=['accuracy'])"
   ]
  },
  {
   "cell_type": "code",
   "execution_count": 10,
   "metadata": {},
   "outputs": [],
   "source": [
    "# The above is actually a convenient way that Keras provides for easy implementation. If you want to have more control over the learning process (e.g., the learning rate), you can use the following:\n",
    "\n",
    "model.compile(loss=keras.losses.binary_crossentropy, optimizer=keras.optimizers.SGD(lr=0.001)) # specify learning rate"
   ]
  },
  {
   "cell_type": "code",
   "execution_count": 11,
   "metadata": {},
   "outputs": [
    {
     "name": "stdout",
     "output_type": "stream",
     "text": [
      "(900, 3072)\n",
      "(50, 3072)\n",
      "(50, 3072)\n"
     ]
    },
    {
     "name": "stderr",
     "output_type": "stream",
     "text": [
      "W0705 09:30:14.012826 140736799790016 deprecation_wrapper.py:119] From /anaconda3/lib/python3.7/site-packages/keras/backend/tensorflow_backend.py:986: The name tf.assign_add is deprecated. Please use tf.compat.v1.assign_add instead.\n",
      "\n"
     ]
    },
    {
     "name": "stdout",
     "output_type": "stream",
     "text": [
      "Train on 900 samples, validate on 50 samples\n",
      "Epoch 1/5\n",
      "900/900 [==============================] - 1s 597us/step - loss: 0.7213 - val_loss: 1.1296\n",
      "Epoch 2/5\n",
      "900/900 [==============================] - 0s 212us/step - loss: 0.7154 - val_loss: 1.0964\n",
      "Epoch 3/5\n",
      "900/900 [==============================] - 0s 169us/step - loss: 0.7101 - val_loss: 1.0648\n",
      "Epoch 4/5\n",
      "900/900 [==============================] - 0s 162us/step - loss: 0.7055 - val_loss: 1.0347\n",
      "Epoch 5/5\n",
      "900/900 [==============================] - 0s 145us/step - loss: 0.7014 - val_loss: 1.0119\n"
     ]
    },
    {
     "data": {
      "text/plain": [
       "<keras.callbacks.History at 0xb36289198>"
      ]
     },
     "execution_count": 11,
     "metadata": {},
     "output_type": "execute_result"
    }
   ],
   "source": [
    "# Up to this point we're all doing configurations. Now everything is set up so we're letting the model do real things!\n",
    "\n",
    "# Since now we're using a fully-connected nets, remember we need to flatten the image to a single long vector first\n",
    "X_train_flat = X_train.reshape((-1, 32*32*3)) # -1 means letting NumPy to figure this axis out automatically\n",
    "X_val_flat = X_val.reshape((-1, 32*32*3))\n",
    "X_test_flat = X_test.reshape((-1, 32*32*3))\n",
    "\n",
    "print(X_train_flat.shape)\n",
    "print(X_val_flat.shape)\n",
    "print(X_test_flat.shape)\n",
    "\n",
    "# Then use fit() to actually train our model\n",
    "# epochs is basically how many iterations we want for the update process. The model needs some time to reach the optimal state!\n",
    "# batch_size is how many images we use each time to estimate the gradient. Remember that the more we use the more accurate each update will be, but it will also be slower\n",
    "\n",
    "model.fit(X_train_flat, y_train, epochs=5, batch_size=32, validation_data=(X_val_flat, y_val))\n",
    "#epochs - how many iterations\n",
    "#batch size - sgd batch"
   ]
  },
  {
   "cell_type": "code",
   "execution_count": 13,
   "metadata": {},
   "outputs": [
    {
     "name": "stdout",
     "output_type": "stream",
     "text": [
      "50/50 [==============================] - 0s 106us/step\n",
      "The test accuracy is: 1.0107408666610718\n",
      "The predicted probabilities are: [[0.36616594]\n",
      " [0.35237712]\n",
      " [0.36673626]\n",
      " [0.35590237]\n",
      " [0.3516262 ]\n",
      " [0.3755673 ]\n",
      " [0.34726173]\n",
      " [0.38540763]\n",
      " [0.36488223]\n",
      " [0.35786822]\n",
      " [0.3634643 ]\n",
      " [0.36378264]\n",
      " [0.3635221 ]\n",
      " [0.36671293]\n",
      " [0.37281144]\n",
      " [0.37322086]\n",
      " [0.35881683]\n",
      " [0.3760087 ]\n",
      " [0.36336446]\n",
      " [0.36022934]\n",
      " [0.3595308 ]\n",
      " [0.36114463]\n",
      " [0.36704606]\n",
      " [0.36410132]\n",
      " [0.36501738]\n",
      " [0.36035633]\n",
      " [0.3787157 ]\n",
      " [0.3612965 ]\n",
      " [0.36609855]\n",
      " [0.360236  ]\n",
      " [0.36341494]\n",
      " [0.36851645]\n",
      " [0.3683704 ]\n",
      " [0.36051065]\n",
      " [0.3696788 ]\n",
      " [0.35962012]\n",
      " [0.35956424]\n",
      " [0.3586552 ]\n",
      " [0.36346418]\n",
      " [0.35310268]\n",
      " [0.36983705]\n",
      " [0.35319704]\n",
      " [0.3713618 ]\n",
      " [0.35150304]\n",
      " [0.36883247]\n",
      " [0.36370438]\n",
      " [0.36377287]\n",
      " [0.3889732 ]\n",
      " [0.34508684]\n",
      " [0.37197754]]\n",
      "The predicted class labels are: [[0]\n",
      " [0]\n",
      " [0]\n",
      " [0]\n",
      " [0]\n",
      " [0]\n",
      " [0]\n",
      " [0]\n",
      " [0]\n",
      " [0]\n",
      " [0]\n",
      " [0]\n",
      " [0]\n",
      " [0]\n",
      " [0]\n",
      " [0]\n",
      " [0]\n",
      " [0]\n",
      " [0]\n",
      " [0]\n",
      " [0]\n",
      " [0]\n",
      " [0]\n",
      " [0]\n",
      " [0]\n",
      " [0]\n",
      " [0]\n",
      " [0]\n",
      " [0]\n",
      " [0]\n",
      " [0]\n",
      " [0]\n",
      " [0]\n",
      " [0]\n",
      " [0]\n",
      " [0]\n",
      " [0]\n",
      " [0]\n",
      " [0]\n",
      " [0]\n",
      " [0]\n",
      " [0]\n",
      " [0]\n",
      " [0]\n",
      " [0]\n",
      " [0]\n",
      " [0]\n",
      " [0]\n",
      " [0]\n",
      " [0]]\n"
     ]
    }
   ],
   "source": [
    "# Now let's see how our model does\n",
    "acc = model.evaluate(X_test_flat, y_test)\n",
    "print('The test accuracy is: {}'.format(acc))\n",
    "\n",
    "# And make predictions\n",
    "prob = model.predict(X_test_flat) # These are probabilities, and we want to convert them to class labels\n",
    "label = np.array(prob > 0.5, dtype=int)\n",
    "\n",
    "print('The predicted probabilities are: {}'.format(prob))\n",
    "print('The predicted class labels are: {}'.format(label))\n"
   ]
  },
  {
   "cell_type": "code",
   "execution_count": 16,
   "metadata": {},
   "outputs": [
    {
     "name": "stdout",
     "output_type": "stream",
     "text": [
      "Train on 900 samples, validate on 50 samples\n",
      "Epoch 1/30\n",
      "900/900 [==============================] - 1s 862us/step - loss: 0.6884 - val_loss: 0.7618\n",
      "Epoch 2/30\n",
      "900/900 [==============================] - 0s 262us/step - loss: 0.6880 - val_loss: 0.8012\n",
      "Epoch 3/30\n",
      "900/900 [==============================] - 0s 262us/step - loss: 0.6874 - val_loss: 0.8079\n",
      "Epoch 4/30\n",
      "900/900 [==============================] - 0s 300us/step - loss: 0.6872 - val_loss: 0.8245\n",
      "Epoch 5/30\n",
      "900/900 [==============================] - 0s 270us/step - loss: 0.6873 - val_loss: 0.8140\n",
      "Epoch 6/30\n",
      "900/900 [==============================] - 0s 280us/step - loss: 0.6872 - val_loss: 0.8235\n",
      "Epoch 7/30\n",
      "900/900 [==============================] - 0s 248us/step - loss: 0.6875 - val_loss: 0.8256\n",
      "Epoch 8/30\n",
      "900/900 [==============================] - 0s 259us/step - loss: 0.6875 - val_loss: 0.8140\n",
      "Epoch 9/30\n",
      "900/900 [==============================] - 0s 389us/step - loss: 0.6872 - val_loss: 0.8253\n",
      "Epoch 10/30\n",
      "900/900 [==============================] - 0s 315us/step - loss: 0.6872 - val_loss: 0.8254\n",
      "Epoch 11/30\n",
      "900/900 [==============================] - 0s 333us/step - loss: 0.6871 - val_loss: 0.8219\n",
      "Epoch 12/30\n",
      "900/900 [==============================] - 0s 303us/step - loss: 0.6874 - val_loss: 0.8257\n",
      "Epoch 13/30\n",
      "900/900 [==============================] - 0s 326us/step - loss: 0.6872 - val_loss: 0.8036\n",
      "Epoch 14/30\n",
      "900/900 [==============================] - 0s 303us/step - loss: 0.6872 - val_loss: 0.7870\n",
      "Epoch 15/30\n",
      "900/900 [==============================] - 0s 328us/step - loss: 0.6875 - val_loss: 0.7920\n",
      "Epoch 16/30\n",
      "900/900 [==============================] - 0s 337us/step - loss: 0.6874 - val_loss: 0.8292\n",
      "Epoch 17/30\n",
      "900/900 [==============================] - 0s 283us/step - loss: 0.6874 - val_loss: 0.8374\n",
      "Epoch 18/30\n",
      "900/900 [==============================] - 0s 286us/step - loss: 0.6874 - val_loss: 0.8109\n",
      "Epoch 19/30\n",
      "900/900 [==============================] - 0s 295us/step - loss: 0.6874 - val_loss: 0.8078\n",
      "Epoch 20/30\n",
      "900/900 [==============================] - 0s 259us/step - loss: 0.6872 - val_loss: 0.8034\n",
      "Epoch 21/30\n",
      "900/900 [==============================] - 0s 275us/step - loss: 0.6875 - val_loss: 0.8226\n",
      "Epoch 22/30\n",
      "900/900 [==============================] - 0s 304us/step - loss: 0.6872 - val_loss: 0.8329\n",
      "Epoch 23/30\n",
      "900/900 [==============================] - 0s 313us/step - loss: 0.6873 - val_loss: 0.8376\n",
      "Epoch 24/30\n",
      "900/900 [==============================] - 0s 284us/step - loss: 0.6873 - val_loss: 0.8162\n",
      "Epoch 25/30\n",
      "900/900 [==============================] - 0s 299us/step - loss: 0.6874 - val_loss: 0.8058\n",
      "Epoch 26/30\n",
      "900/900 [==============================] - 0s 243us/step - loss: 0.6873 - val_loss: 0.8082\n",
      "Epoch 27/30\n",
      "900/900 [==============================] - 0s 286us/step - loss: 0.6871 - val_loss: 0.8332\n",
      "Epoch 28/30\n",
      "900/900 [==============================] - 0s 302us/step - loss: 0.6873 - val_loss: 0.8097\n",
      "Epoch 29/30\n",
      "900/900 [==============================] - 0s 311us/step - loss: 0.6874 - val_loss: 0.7934\n",
      "Epoch 30/30\n",
      "900/900 [==============================] - 0s 260us/step - loss: 0.6872 - val_loss: 0.8031\n",
      "50/50 [==============================] - 0s 146us/step\n",
      "The test accuracy is: 0.8035309720039367\n",
      "The predicted probabilities are: [[0.45778173]\n",
      " [0.44722468]\n",
      " [0.4344414 ]\n",
      " [0.450739  ]\n",
      " [0.45624125]\n",
      " [0.44665116]\n",
      " [0.4468334 ]\n",
      " [0.45389217]\n",
      " [0.44794866]\n",
      " [0.43932387]\n",
      " [0.44235206]\n",
      " [0.4422893 ]\n",
      " [0.4503607 ]\n",
      " [0.44908655]\n",
      " [0.44776154]\n",
      " [0.4482193 ]\n",
      " [0.44707814]\n",
      " [0.44870153]\n",
      " [0.4453558 ]\n",
      " [0.44067398]\n",
      " [0.4392417 ]\n",
      " [0.44654492]\n",
      " [0.4539744 ]\n",
      " [0.4470567 ]\n",
      " [0.44811758]\n",
      " [0.44737962]\n",
      " [0.4486566 ]\n",
      " [0.4454322 ]\n",
      " [0.45271772]\n",
      " [0.44514996]\n",
      " [0.44809157]\n",
      " [0.44471633]\n",
      " [0.45039332]\n",
      " [0.44262478]\n",
      " [0.45571995]\n",
      " [0.44439033]\n",
      " [0.44184628]\n",
      " [0.44318813]\n",
      " [0.44871107]\n",
      " [0.4455596 ]\n",
      " [0.4432091 ]\n",
      " [0.45147943]\n",
      " [0.45648462]\n",
      " [0.45151162]\n",
      " [0.44822088]\n",
      " [0.4491586 ]\n",
      " [0.44849738]\n",
      " [0.4555106 ]\n",
      " [0.4504624 ]\n",
      " [0.4515245 ]]\n",
      "The predicted class labels are: [[0]\n",
      " [0]\n",
      " [0]\n",
      " [0]\n",
      " [0]\n",
      " [0]\n",
      " [0]\n",
      " [0]\n",
      " [0]\n",
      " [0]\n",
      " [0]\n",
      " [0]\n",
      " [0]\n",
      " [0]\n",
      " [0]\n",
      " [0]\n",
      " [0]\n",
      " [0]\n",
      " [0]\n",
      " [0]\n",
      " [0]\n",
      " [0]\n",
      " [0]\n",
      " [0]\n",
      " [0]\n",
      " [0]\n",
      " [0]\n",
      " [0]\n",
      " [0]\n",
      " [0]\n",
      " [0]\n",
      " [0]\n",
      " [0]\n",
      " [0]\n",
      " [0]\n",
      " [0]\n",
      " [0]\n",
      " [0]\n",
      " [0]\n",
      " [0]\n",
      " [0]\n",
      " [0]\n",
      " [0]\n",
      " [0]\n",
      " [0]\n",
      " [0]\n",
      " [0]\n",
      " [0]\n",
      " [0]\n",
      " [0]]\n"
     ]
    }
   ],
   "source": [
    "# As we can expect, the results are totally random\n",
    "# You can also play with other models, e.g., convnets\n",
    "# So we do the same procedure once more\n",
    "\n",
    "model = Sequential() # Re-initialize the model\n",
    "\n",
    "# Feature extractor\n",
    "# We're using such an architecture: conv -> maxpool -> conv -> maxpool\n",
    "# 'same' padding means we zero-pad the images so that the output will be of the same size as the input\n",
    "model.add(keras.layers.Conv2D(filters=16, kernel_size=3, strides=(2, 2), padding='same'))\n",
    "model.add(keras.layers.Activation('sigmoid'))\n",
    "model.add(keras.layers.MaxPooling2D(pool_size=(2, 2))) # By default the stride is the same as the pooling size\n",
    "\n",
    "model.add(keras.layers.Conv2D(filters=32, kernel_size=2, strides=(1, 1), padding='same'))\n",
    "model.add(keras.layers.Activation('relu')) # ReLU is another kind of non-linear function\n",
    "model.add(keras.layers.MaxPooling2D(pool_size=(2, 2)))\n",
    "\n",
    "# Classifier\n",
    "# We're using a 2-layer FC net for classification \n",
    "model.add(keras.layers.Flatten()) #flatten before fully connected part\n",
    "\n",
    "model.add(keras.layers.Dense(32))\n",
    "model.add(keras.layers.Activation('relu'))\n",
    "\n",
    "model.add(keras.layers.Dense(1))\n",
    "model.add(keras.layers.Activation('sigmoid'))\n",
    "\n",
    "# Compilation\n",
    "model.compile(loss=keras.losses.binary_crossentropy, optimizer=keras.optimizers.SGD(lr=0.001))\n",
    "\n",
    "# Training\n",
    "model.fit(X_train, y_train, epochs=30, batch_size=32, validation_data=(X_val, y_val))\n",
    "\n",
    "# Evaluation\n",
    "acc = model.evaluate(X_test, y_test)\n",
    "print('The test accuracy is: {}'.format(acc))\n",
    "\n",
    "# And make predictions\n",
    "prob = model.predict(X_test) # These are probabilities, and we want to convert them to class labels\n",
    "label = np.array(prob > 0.5, dtype=int)\n",
    "\n",
    "print('The predicted probabilities are: {}'.format(prob))\n",
    "print('The predicted class labels are: {}'.format(label))"
   ]
  },
  {
   "cell_type": "code",
   "execution_count": null,
   "metadata": {},
   "outputs": [],
   "source": []
  }
 ],
 "metadata": {
  "kernelspec": {
   "display_name": "Python 3",
   "language": "python",
   "name": "python3"
  },
  "language_info": {
   "codemirror_mode": {
    "name": "ipython",
    "version": 3
   },
   "file_extension": ".py",
   "mimetype": "text/x-python",
   "name": "python",
   "nbconvert_exporter": "python",
   "pygments_lexer": "ipython3",
   "version": "3.7.3"
  }
 },
 "nbformat": 4,
 "nbformat_minor": 2
}
